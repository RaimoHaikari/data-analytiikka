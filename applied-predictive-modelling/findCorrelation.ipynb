{
 "cells": [
  {
   "cell_type": "markdown",
   "metadata": {},
   "source": [
    "Tiedot perustuvat kirjan [Applied Predictive Modeling](https://link.springer.com/book/10.1007/978-1-4614-6849-3) kappaleeseen Data Pre-processing."
   ]
  },
  {
   "cell_type": "markdown",
   "metadata": {},
   "source": [
    "# Multikollineaarisuus\n",
    "\n",
    "Multikollineaarisuus tarkoittaa tilannetta, jossa usean muuttujan välillä esiintyy vahvaa korrelaatiota; toisin sanoen nämä muuttujat kertovat saman asian, mutta jokainen hieman eri tavalla."
   ]
  },
  {
   "cell_type": "markdown",
   "metadata": {},
   "source": [
    "## Mitä haittaa\n",
    "\n",
    "Tavoitteena on hyvän yleistyskyvyn omaava mahdollisimman yksinkertainen malli. Päällekkäistä tietoa sisältävät muuttujat lisäävät mallin monimutkaisuutta tuomatta lisäinformaatiota.\n",
    "\n",
    "Oppaan kirjoittajat nostavat esille lineaarisen regression kaltaiset tekniikat, joilla multikollineaariset aineistot voivat heikentää mallin suorituskykyä ja luotettavuutta."
   ]
  },
  {
   "cell_type": "markdown",
   "metadata": {},
   "source": [
    "## Kuinka tunnistaa\n",
    "\n",
    "Korrelaatiomatriisin visuaalinen tarkastelu voi paljastaa keskenään korreloivia ryhmiä. R-kielen [corrplot-funktion](https://cran.r-project.org/web/packages/corrplot/vignettes/corrplot-intro.html) avulla korrelaatiomatriisi voidaan tulostaa siten, että keskenään korreloivat muuttujat esitellään vierekkäin.\n",
    "\n",
    "Multikollineaarisuutta voidaan selvittää myös [pääkomponenttianalyysin avulla](https://scikit-learn.org/stable/modules/generated/sklearn.decomposition.PCA.html) (PCA). Mikäli muutama pääkomponentti selittää suurimman osan aineiston varianssista, viittaa tämä siihen, että muuttujien välillä esiintyy multikollineaarisuutta. Komponenttien loadings arvojen tarkastelu voi auttaa tunnistamaan mistä muuttujista on kyse."
   ]
  },
  {
   "cell_type": "markdown",
   "metadata": {},
   "source": [
    "## Kuinka päästä eroon\n",
    "\n",
    "Regressioanalyysiin on kehitetty erilaisia menetelmiä multikollineaarisuuden tunnistamiseen. \n",
    "\n",
    "Kun tietyn aineiston perustella on laadittu regressiomalli, niin VIF-mittarin avulla voi arvioida kärsiikö malli multikollineaarisuuten liittyvistä ongelmista ja pyrkiä tarvittaessa tunnistamaan ja poistamaan kollineaariset muuttujat.\n",
    "\n",
    "VIF-mittarin avulla saatua tietoa ei kuitenkaan yleensä voi suoraan hyödyntää toisenlaisia malleja laadittaessa.\n",
    "\n",
    "[Pääkomponenttianalyysi](https://fi.wikipedia.org/wiki/P%C3%A4%C3%A4komponenttianalyysi) tarjoaa tehokkaan menetelmän multikollineaarisuuden poistamiseen. \n",
    "\n",
    "PCA:n haittana on mallinen selitettävyyden vaikeutuminen. Kun alkuperäisistä muuttujista siirrytään pääkomponenttien käyttöön, kausaalisten yhteyksien selittäminen hankaloituu merkittävästi. Lisäksi, PCA tutkii ainoastaan selittävien muuttujien varianssia, eikä huomioi selittävien ja itsenäisen muuttujien välistä vuorovaikutusta. On kehitetty [PLS:n](https://en.wikipedia.org/wiki/Partial_least_squares_regression) kaltaisia menetelmiä, jotka paremmin huomioivat edellä mainitun yhteden."
   ]
  },
  {
   "cell_type": "markdown",
   "metadata": {},
   "source": [
    "Ladataan käytettävät paketit"
   ]
  },
  {
   "cell_type": "code",
   "execution_count": 1,
   "metadata": {},
   "outputs": [],
   "source": [
    "import numpy as np\n",
    "import pandas as pd\n",
    "\n",
    "from copy import copy, deepcopy"
   ]
  },
  {
   "cell_type": "code",
   "execution_count": 3,
   "metadata": {},
   "outputs": [],
   "source": [
    "def check_symmetric(a, rtol=1e-05, atol=1e-08):\n",
    "    return np.allclose(a, a.T, rtol=rtol, atol=atol)"
   ]
  },
  {
   "cell_type": "code",
   "execution_count": 5,
   "metadata": {},
   "outputs": [],
   "source": [
    "def findCorrelation(x, cutoff = 0.9, verbose = False):\n",
    "\n",
    "    removed = []\n",
    "\n",
    "    # Varmistetaan, että aineiston tietotyypit ovat float tyyppisiä\n",
    "    if (x.dtypes.values[:, None] == ['int64', 'int32', 'int16', 'int8']).any():\n",
    "            x = x.astype(float)\n",
    "\n",
    "    # Irroitetaan arvot Numpy-taulukkoon\n",
    "    _x = x.values\n",
    "\n",
    "    # Napataan rivien lkm muistiin\n",
    "    varnum = _x.shape[0]\n",
    "\n",
    "    # Varmistetaan, että matriisi symmetrinen\n",
    "    if check_symmetric(_x) == False:\n",
    "        print(\"Ei oo symmetrinen\")\n",
    "        return None\n",
    "    \n",
    "    # Mitä tämä tarkoittaa?\n",
    "    if varnum == 1:\n",
    "        print(\"only one variable given\")\n",
    "        return None\n",
    "    \n",
    "    # Jatketaan lukujen absoluuttisilla arvoilla\n",
    "    _x = np.abs(_x)\n",
    "\n",
    "\n",
    "    # tyhjennetään diagonaaliakseli\n",
    "    # - oletus on, että korrelaatiomatriisi sisältää float-arvoja....\n",
    "    # - na.arvoja ei huomioda keskiarvoja laskettaessa\n",
    "    np.fill_diagonal(_x, np.nan)\n",
    "\n",
    "    # Muuttujien järjestys korrelaatioarvojen keskiarvon perustella\n",
    "    maxAbsCorOrder = np.nanmean(_x, axis = 0).argsort()[::-1]\n",
    "\n",
    "    for i in range(len(maxAbsCorOrder) - 1):\n",
    "        iIndx = maxAbsCorOrder[i]\n",
    "\n",
    "        # Ota jotenkin käyttöön...\n",
    "        # if np.any(_x > cutoff) == False:\n",
    "        #    print(\"Ei enää\", i)\n",
    "        # else:\n",
    "        #    print(\".\", sum(_x > cutoff))\n",
    "\n",
    "        # Onko sarake jo aiemmin poistettu\n",
    "        if iIndx in removed:\n",
    "            continue\n",
    "\n",
    "        for j in range(i + 1, len(maxAbsCorOrder)):\n",
    "\n",
    "            jIndx = maxAbsCorOrder[j]\n",
    "\n",
    "            # Onko jompikumpi jo poistettu\n",
    "            if iIndx in removed or jIndx in removed:\n",
    "                continue\n",
    "            \n",
    "            # Ylittääkö muuttujien välinen korrelaatio raja-arvon\n",
    "            if _x[iIndx][jIndx] > cutoff:\n",
    "                    \n",
    "                mn1 = np.nanmean(_x[iIndx,:])\n",
    "                mn2 = np.nanmean(_x[:,jIndx])\n",
    "\n",
    "                if mn1 > mn2:\n",
    "\n",
    "                    removed.append(iIndx)\n",
    "                    _x[iIndx,:] = np.nan\n",
    "                    _x[:,iIndx] = np.nan\n",
    "                else:\n",
    "\n",
    "                    removed.append(jIndx)\n",
    "                    _x[jIndx,:] = np.nan\n",
    "                    _x[:,jIndx] = np.nan\n",
    "\n",
    "\n",
    "    return removed\n"
   ]
  },
  {
   "cell_type": "markdown",
   "metadata": {},
   "source": [
    "Määritellään testiaineisto:"
   ]
  },
  {
   "cell_type": "code",
   "execution_count": 9,
   "metadata": {},
   "outputs": [
    {
     "data": {
      "text/plain": [
       "Index(['H', 'J', 'G'], dtype='object')"
      ]
     },
     "execution_count": 9,
     "metadata": {},
     "output_type": "execute_result"
    }
   ],
   "source": [
    "\n",
    "np.random.seed([3,1415])\n",
    "df = pd.DataFrame(\n",
    "    np.random.randint(10, size=(10, 10)),\n",
    "    columns=list('ABCDEFGHIJ'))\n",
    "\n",
    "corr = df.corr()\n",
    "hc = findCorrelation(corr, cutoff=0.5)\n",
    "\n",
    "df.columns[hc]"
   ]
  }
 ],
 "metadata": {
  "kernelspec": {
   "display_name": "Python 3",
   "language": "python",
   "name": "python3"
  },
  "language_info": {
   "codemirror_mode": {
    "name": "ipython",
    "version": 3
   },
   "file_extension": ".py",
   "mimetype": "text/x-python",
   "name": "python",
   "nbconvert_exporter": "python",
   "pygments_lexer": "ipython3",
   "version": "3.9.7"
  },
  "orig_nbformat": 4
 },
 "nbformat": 4,
 "nbformat_minor": 2
}
