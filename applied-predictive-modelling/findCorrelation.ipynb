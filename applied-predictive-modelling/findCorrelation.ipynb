{
 "cells": [
  {
   "cell_type": "markdown",
   "metadata": {},
   "source": [
    "Ladataan käytettävät paketit"
   ]
  },
  {
   "cell_type": "code",
   "execution_count": 1,
   "metadata": {},
   "outputs": [],
   "source": [
    "import numpy as np\n",
    "import pandas as pd\n",
    "\n",
    "from copy import copy, deepcopy"
   ]
  },
  {
   "cell_type": "markdown",
   "metadata": {},
   "source": [
    "Luetaan aineisto:"
   ]
  },
  {
   "cell_type": "code",
   "execution_count": 2,
   "metadata": {},
   "outputs": [
    {
     "data": {
      "text/html": [
       "<div>\n",
       "<style scoped>\n",
       "    .dataframe tbody tr th:only-of-type {\n",
       "        vertical-align: middle;\n",
       "    }\n",
       "\n",
       "    .dataframe tbody tr th {\n",
       "        vertical-align: top;\n",
       "    }\n",
       "\n",
       "    .dataframe thead th {\n",
       "        text-align: right;\n",
       "    }\n",
       "</style>\n",
       "<table border=\"1\" class=\"dataframe\">\n",
       "  <thead>\n",
       "    <tr style=\"text-align: right;\">\n",
       "      <th></th>\n",
       "      <th>Cell</th>\n",
       "      <th>Case</th>\n",
       "      <th>Class</th>\n",
       "      <th>AngleCh1</th>\n",
       "      <th>AngleStatusCh1</th>\n",
       "      <th>AreaCh1</th>\n",
       "      <th>AreaStatusCh1</th>\n",
       "      <th>AvgIntenCh1</th>\n",
       "      <th>AvgIntenCh2</th>\n",
       "      <th>AvgIntenCh3</th>\n",
       "      <th>...</th>\n",
       "      <th>VarIntenCh1</th>\n",
       "      <th>VarIntenCh3</th>\n",
       "      <th>VarIntenCh4</th>\n",
       "      <th>VarIntenStatusCh1</th>\n",
       "      <th>VarIntenStatusCh3</th>\n",
       "      <th>VarIntenStatusCh4</th>\n",
       "      <th>WidthCh1</th>\n",
       "      <th>WidthStatusCh1</th>\n",
       "      <th>XCentroid</th>\n",
       "      <th>YCentroid</th>\n",
       "    </tr>\n",
       "  </thead>\n",
       "  <tbody>\n",
       "    <tr>\n",
       "      <th>0</th>\n",
       "      <td>207827637</td>\n",
       "      <td>Test</td>\n",
       "      <td>PS</td>\n",
       "      <td>143.247705</td>\n",
       "      <td>1</td>\n",
       "      <td>185</td>\n",
       "      <td>0</td>\n",
       "      <td>15.711864</td>\n",
       "      <td>3.954802</td>\n",
       "      <td>9.548023</td>\n",
       "      <td>...</td>\n",
       "      <td>12.474676</td>\n",
       "      <td>7.609035</td>\n",
       "      <td>2.714100</td>\n",
       "      <td>0</td>\n",
       "      <td>2</td>\n",
       "      <td>2</td>\n",
       "      <td>10.642974</td>\n",
       "      <td>2</td>\n",
       "      <td>42</td>\n",
       "      <td>14</td>\n",
       "    </tr>\n",
       "    <tr>\n",
       "      <th>1</th>\n",
       "      <td>207932307</td>\n",
       "      <td>Train</td>\n",
       "      <td>PS</td>\n",
       "      <td>133.752037</td>\n",
       "      <td>0</td>\n",
       "      <td>819</td>\n",
       "      <td>1</td>\n",
       "      <td>31.923274</td>\n",
       "      <td>205.878517</td>\n",
       "      <td>69.916880</td>\n",
       "      <td>...</td>\n",
       "      <td>18.809225</td>\n",
       "      <td>56.715352</td>\n",
       "      <td>118.388139</td>\n",
       "      <td>0</td>\n",
       "      <td>0</td>\n",
       "      <td>0</td>\n",
       "      <td>32.161261</td>\n",
       "      <td>1</td>\n",
       "      <td>215</td>\n",
       "      <td>347</td>\n",
       "    </tr>\n",
       "    <tr>\n",
       "      <th>2</th>\n",
       "      <td>207932463</td>\n",
       "      <td>Train</td>\n",
       "      <td>WS</td>\n",
       "      <td>106.646387</td>\n",
       "      <td>0</td>\n",
       "      <td>431</td>\n",
       "      <td>0</td>\n",
       "      <td>28.038835</td>\n",
       "      <td>115.315534</td>\n",
       "      <td>63.941748</td>\n",
       "      <td>...</td>\n",
       "      <td>17.295643</td>\n",
       "      <td>37.671053</td>\n",
       "      <td>49.470524</td>\n",
       "      <td>0</td>\n",
       "      <td>0</td>\n",
       "      <td>0</td>\n",
       "      <td>21.185525</td>\n",
       "      <td>0</td>\n",
       "      <td>371</td>\n",
       "      <td>252</td>\n",
       "    </tr>\n",
       "    <tr>\n",
       "      <th>3</th>\n",
       "      <td>207932470</td>\n",
       "      <td>Train</td>\n",
       "      <td>PS</td>\n",
       "      <td>69.150325</td>\n",
       "      <td>0</td>\n",
       "      <td>298</td>\n",
       "      <td>0</td>\n",
       "      <td>19.456140</td>\n",
       "      <td>101.294737</td>\n",
       "      <td>28.217544</td>\n",
       "      <td>...</td>\n",
       "      <td>13.818968</td>\n",
       "      <td>30.005643</td>\n",
       "      <td>24.749537</td>\n",
       "      <td>0</td>\n",
       "      <td>0</td>\n",
       "      <td>2</td>\n",
       "      <td>13.392830</td>\n",
       "      <td>0</td>\n",
       "      <td>487</td>\n",
       "      <td>295</td>\n",
       "    </tr>\n",
       "    <tr>\n",
       "      <th>4</th>\n",
       "      <td>207932455</td>\n",
       "      <td>Test</td>\n",
       "      <td>PS</td>\n",
       "      <td>2.887837</td>\n",
       "      <td>2</td>\n",
       "      <td>285</td>\n",
       "      <td>0</td>\n",
       "      <td>24.275735</td>\n",
       "      <td>111.415441</td>\n",
       "      <td>20.474265</td>\n",
       "      <td>...</td>\n",
       "      <td>15.407972</td>\n",
       "      <td>20.504288</td>\n",
       "      <td>45.450457</td>\n",
       "      <td>0</td>\n",
       "      <td>0</td>\n",
       "      <td>0</td>\n",
       "      <td>13.198561</td>\n",
       "      <td>0</td>\n",
       "      <td>283</td>\n",
       "      <td>159</td>\n",
       "    </tr>\n",
       "  </tbody>\n",
       "</table>\n",
       "<p>5 rows × 119 columns</p>\n",
       "</div>"
      ],
      "text/plain": [
       "        Cell   Case Class    AngleCh1  AngleStatusCh1  AreaCh1  AreaStatusCh1  \\\n",
       "0  207827637   Test    PS  143.247705               1      185              0   \n",
       "1  207932307  Train    PS  133.752037               0      819              1   \n",
       "2  207932463  Train    WS  106.646387               0      431              0   \n",
       "3  207932470  Train    PS   69.150325               0      298              0   \n",
       "4  207932455   Test    PS    2.887837               2      285              0   \n",
       "\n",
       "   AvgIntenCh1  AvgIntenCh2  AvgIntenCh3  ...  VarIntenCh1  VarIntenCh3  \\\n",
       "0    15.711864     3.954802     9.548023  ...    12.474676     7.609035   \n",
       "1    31.923274   205.878517    69.916880  ...    18.809225    56.715352   \n",
       "2    28.038835   115.315534    63.941748  ...    17.295643    37.671053   \n",
       "3    19.456140   101.294737    28.217544  ...    13.818968    30.005643   \n",
       "4    24.275735   111.415441    20.474265  ...    15.407972    20.504288   \n",
       "\n",
       "   VarIntenCh4  VarIntenStatusCh1  VarIntenStatusCh3  VarIntenStatusCh4  \\\n",
       "0     2.714100                  0                  2                  2   \n",
       "1   118.388139                  0                  0                  0   \n",
       "2    49.470524                  0                  0                  0   \n",
       "3    24.749537                  0                  0                  2   \n",
       "4    45.450457                  0                  0                  0   \n",
       "\n",
       "    WidthCh1  WidthStatusCh1  XCentroid  YCentroid  \n",
       "0  10.642974               2         42         14  \n",
       "1  32.161261               1        215        347  \n",
       "2  21.185525               0        371        252  \n",
       "3  13.392830               0        487        295  \n",
       "4  13.198561               0        283        159  \n",
       "\n",
       "[5 rows x 119 columns]"
      ]
     },
     "execution_count": 2,
     "metadata": {},
     "output_type": "execute_result"
    }
   ],
   "source": [
    "dataUrl = \"https://raw.githubusercontent.com/RaimoHaikari/data-analytiikka/main/applied-predictive-modelling/data/segmentationOriginal.csv\"\n",
    "segmentationOriginal = pd.read_csv(dataUrl)\n",
    "segmentationOriginal.head() "
   ]
  },
  {
   "cell_type": "markdown",
   "metadata": {},
   "source": [
    "Keskitytään tässä harjoituksessa opetusmaterialiin ja tiputetaan ylimääräiset sarakkeet pois"
   ]
  },
  {
   "cell_type": "code",
   "execution_count": 3,
   "metadata": {},
   "outputs": [
    {
     "data": {
      "text/plain": [
       "(1009, 58)"
      ]
     },
     "execution_count": 3,
     "metadata": {},
     "output_type": "execute_result"
    }
   ],
   "source": [
    "ehto = segmentationOriginal['Case'] == 'Train'\n",
    "segData = segmentationOriginal[ehto].copy(deep=True)\n",
    "\n",
    "segData.drop(['Cell', 'Class', 'Case'], axis=1, inplace = True)\n",
    "matching = [s for s in segData.columns.values if \"Status\" in s]\n",
    "segData.drop(matching, axis=1, inplace = True)\n",
    "segData.shape"
   ]
  },
  {
   "cell_type": "code",
   "execution_count": 4,
   "metadata": {},
   "outputs": [],
   "source": [
    "def check_symmetric(a, rtol=1e-05, atol=1e-08):\n",
    "    return np.allclose(a, a.T, rtol=rtol, atol=atol)"
   ]
  },
  {
   "cell_type": "code",
   "execution_count": 19,
   "metadata": {},
   "outputs": [],
   "source": [
    "# x, cutoff = 0.9, verbose = FALSE, names = FALSE, exact = ncol(x) < 100\n",
    "# x, cutoff = 0.9, verbose = FALSE\n",
    "def findCorrelation(x, cutoff = 0.9, verbose = False):\n",
    "\n",
    "    # Irroitetaan arvot Numpy-taulukkoon\n",
    "    _x = x.values\n",
    "\n",
    "    # Napataan rivien lkm muistiin\n",
    "    varnum = _x.shape[0]\n",
    "\n",
    "    # Varmistetaan, että matriisi symmetrinen\n",
    "    if check_symmetric(_x) == False:\n",
    "        print(\"Ei oo symmetrinen\")\n",
    "        return None\n",
    "    \n",
    "    # Mitä tämä tarkoittaa?\n",
    "    if varnum == 1:\n",
    "        print(\"only one variable given\")\n",
    "        return None\n",
    "    \n",
    "    # Jatketaan lukujen absoluuttisilla arvoilla\n",
    "    _x = np.abs(_x)\n",
    "\n",
    "    #   originalOrder <- 1:varnum\n",
    "    originalOrder = np.arange(0, varnum)\n",
    "\n",
    "    # Creates deep copy of object\n",
    "    tmp = deepcopy(_x)\n",
    "\n",
    "    # tyhjennetään diagonaaliakseli\n",
    "    # - oletus on, että korrelaatiomatriisi sisältää float-arvoja....\n",
    "    np.fill_diagonal(tmp, np.nan)\n",
    "\n",
    "\n",
    "    print(tmp)\n"
   ]
  },
  {
   "cell_type": "code",
   "execution_count": 20,
   "metadata": {},
   "outputs": [
    {
     "name": "stdout",
     "output_type": "stream",
     "text": [
      "[[       nan 0.00262717 0.04300776 ... 0.05341167 0.05650622 0.05527006]\n",
      " [0.00262717        nan 0.02529739 ... 0.84273392 0.03386181 0.11056335]\n",
      " [0.04300776 0.02529739        nan ... 0.01512566 0.079986   0.05291712]\n",
      " ...\n",
      " [0.05341167 0.84273392 0.01512566 ...        nan 0.04685773 0.12884136]\n",
      " [0.05650622 0.03386181 0.079986   ... 0.04685773        nan 0.0454256 ]\n",
      " [0.05527006 0.11056335 0.05291712 ... 0.12884136 0.0454256         nan]]\n"
     ]
    }
   ],
   "source": [
    "corr_mat = segData.corr()\n",
    "# corr_mat.style.background_gradient(cmap='coolwarm', axis=None)\n",
    "findCorrelation(corr_mat, cutoff=0.75)\n",
    "\n",
    "#type(corr_mat.values)\n",
    "# a = np.array([1,2,3,2,-4,5,3,5,6]).reshape(3,3)\n",
    "# findCorrelation(a)\n"
   ]
  },
  {
   "cell_type": "code",
   "execution_count": 21,
   "metadata": {},
   "outputs": [
    {
     "name": "stdout",
     "output_type": "stream",
     "text": [
      "[[nan  2.  3.]\n",
      " [ 2. nan  5.]\n",
      " [ 3.  5. nan]]\n"
     ]
    }
   ],
   "source": [
    "a = np.array([1.0,2.0,3.0,2.0,-4.0,5.0,3.0,5.0,6.0]).reshape(3,3)\n",
    "\n",
    "dfA = pd.DataFrame(\n",
    "    data = a,\n",
    "    index = [\"v1\",\"v2\",\"v3\"],\n",
    "    columns= [\"v1\",\"v2\",\"v3\"],\n",
    ")  \n",
    "\n",
    "findCorrelation(dfA, cutoff=0.75)\n"
   ]
  },
  {
   "cell_type": "code",
   "execution_count": 16,
   "metadata": {},
   "outputs": [
    {
     "data": {
      "text/plain": [
       "array([2., 4.])"
      ]
     },
     "execution_count": 16,
     "metadata": {},
     "output_type": "execute_result"
    }
   ],
   "source": [
    "b = np.array([[1, np.nan], [3, 4]])\n",
    "#b\n",
    "np.nanmean(b, axis=0)"
   ]
  },
  {
   "cell_type": "code",
   "execution_count": 18,
   "metadata": {},
   "outputs": [
    {
     "ename": "ValueError",
     "evalue": "cannot convert float NaN to integer",
     "output_type": "error",
     "traceback": [
      "\u001b[1;31m---------------------------------------------------------------------------\u001b[0m",
      "\u001b[1;31mValueError\u001b[0m                                Traceback (most recent call last)",
      "Cell \u001b[1;32mIn[18], line 2\u001b[0m\n\u001b[0;32m      1\u001b[0m a\n\u001b[1;32m----> 2\u001b[0m np\u001b[39m.\u001b[39;49mfill_diagonal(a, np\u001b[39m.\u001b[39;49mnan)\n",
      "File \u001b[1;32m<__array_function__ internals>:5\u001b[0m, in \u001b[0;36mfill_diagonal\u001b[1;34m(*args, **kwargs)\u001b[0m\n",
      "File \u001b[1;32mc:\\Python39\\lib\\site-packages\\numpy\\lib\\index_tricks.py:909\u001b[0m, in \u001b[0;36mfill_diagonal\u001b[1;34m(a, val, wrap)\u001b[0m\n\u001b[0;32m    906\u001b[0m     step \u001b[39m=\u001b[39m \u001b[39m1\u001b[39m \u001b[39m+\u001b[39m (cumprod(a\u001b[39m.\u001b[39mshape[:\u001b[39m-\u001b[39m\u001b[39m1\u001b[39m]))\u001b[39m.\u001b[39msum()\n\u001b[0;32m    908\u001b[0m \u001b[39m# Write the value out into the diagonal.\u001b[39;00m\n\u001b[1;32m--> 909\u001b[0m a\u001b[39m.\u001b[39;49mflat[:end:step] \u001b[39m=\u001b[39m val\n",
      "\u001b[1;31mValueError\u001b[0m: cannot convert float NaN to integer"
     ]
    }
   ],
   "source": [
    "a\n",
    "np.fill_diagonal(a, np.nan)"
   ]
  }
 ],
 "metadata": {
  "kernelspec": {
   "display_name": "Python 3",
   "language": "python",
   "name": "python3"
  },
  "language_info": {
   "codemirror_mode": {
    "name": "ipython",
    "version": 3
   },
   "file_extension": ".py",
   "mimetype": "text/x-python",
   "name": "python",
   "nbconvert_exporter": "python",
   "pygments_lexer": "ipython3",
   "version": "3.9.7"
  },
  "orig_nbformat": 4
 },
 "nbformat": 4,
 "nbformat_minor": 2
}
