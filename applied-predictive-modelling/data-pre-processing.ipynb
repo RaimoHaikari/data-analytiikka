{
 "cells": [
  {
   "cell_type": "markdown",
   "metadata": {},
   "source": [
    "# Aineiston esikäsittely\n",
    "\n",
    "Perustuu kirjan [Applied Predictive Modeling](http://appliedpredictivemodeling.com/) kolmanteen kappaleeseen Data Pre-processing.\n",
    "\n",
    "Alkuperäiset esimerkit on toteutettu R-kielellä.\n",
    "\n",
    "Materiaalina käytetään [solujen automatisoidun analysoinnin onnistumiseen vaikuttavien tekijöiden merkitystä selvittäneen tutkimuksen aineistoa](https://bmcbioinformatics.biomedcentral.com/articles/10.1186/1471-2105-8-340).\n",
    "\n",
    "Ladataan käytettävät paketit:"
   ]
  },
  {
   "cell_type": "code",
   "execution_count": 123,
   "metadata": {},
   "outputs": [],
   "source": [
    "import numpy as np\n",
    "import pandas as pd\n",
    "\n",
    "import matplotlib as mpl\n",
    "import matplotlib.pyplot as plt\n",
    "\n",
    "from scipy.stats import boxcox, kurtosis, skew"
   ]
  },
  {
   "cell_type": "markdown",
   "metadata": {},
   "source": [
    "Määritetään suorituksen aikana käytettävät vakiot"
   ]
  },
  {
   "cell_type": "code",
   "execution_count": 111,
   "metadata": {},
   "outputs": [],
   "source": [
    "BC_FIX = 0.1 # Sarakkeen pienimmän arvon itseisarvoon tehtävä lisäys"
   ]
  },
  {
   "cell_type": "markdown",
   "metadata": {},
   "source": [
    "Luetaan käytettävä aineisto:"
   ]
  },
  {
   "cell_type": "code",
   "execution_count": 112,
   "metadata": {},
   "outputs": [
    {
     "data": {
      "text/html": [
       "<div>\n",
       "<style scoped>\n",
       "    .dataframe tbody tr th:only-of-type {\n",
       "        vertical-align: middle;\n",
       "    }\n",
       "\n",
       "    .dataframe tbody tr th {\n",
       "        vertical-align: top;\n",
       "    }\n",
       "\n",
       "    .dataframe thead th {\n",
       "        text-align: right;\n",
       "    }\n",
       "</style>\n",
       "<table border=\"1\" class=\"dataframe\">\n",
       "  <thead>\n",
       "    <tr style=\"text-align: right;\">\n",
       "      <th></th>\n",
       "      <th>Cell</th>\n",
       "      <th>Case</th>\n",
       "      <th>Class</th>\n",
       "      <th>AngleCh1</th>\n",
       "      <th>AngleStatusCh1</th>\n",
       "      <th>AreaCh1</th>\n",
       "      <th>AreaStatusCh1</th>\n",
       "      <th>AvgIntenCh1</th>\n",
       "      <th>AvgIntenCh2</th>\n",
       "      <th>AvgIntenCh3</th>\n",
       "      <th>...</th>\n",
       "      <th>VarIntenCh1</th>\n",
       "      <th>VarIntenCh3</th>\n",
       "      <th>VarIntenCh4</th>\n",
       "      <th>VarIntenStatusCh1</th>\n",
       "      <th>VarIntenStatusCh3</th>\n",
       "      <th>VarIntenStatusCh4</th>\n",
       "      <th>WidthCh1</th>\n",
       "      <th>WidthStatusCh1</th>\n",
       "      <th>XCentroid</th>\n",
       "      <th>YCentroid</th>\n",
       "    </tr>\n",
       "  </thead>\n",
       "  <tbody>\n",
       "    <tr>\n",
       "      <th>0</th>\n",
       "      <td>207827637</td>\n",
       "      <td>Test</td>\n",
       "      <td>PS</td>\n",
       "      <td>143.247705</td>\n",
       "      <td>1</td>\n",
       "      <td>185</td>\n",
       "      <td>0</td>\n",
       "      <td>15.711864</td>\n",
       "      <td>3.954802</td>\n",
       "      <td>9.548023</td>\n",
       "      <td>...</td>\n",
       "      <td>12.474676</td>\n",
       "      <td>7.609035</td>\n",
       "      <td>2.714100</td>\n",
       "      <td>0</td>\n",
       "      <td>2</td>\n",
       "      <td>2</td>\n",
       "      <td>10.642974</td>\n",
       "      <td>2</td>\n",
       "      <td>42</td>\n",
       "      <td>14</td>\n",
       "    </tr>\n",
       "    <tr>\n",
       "      <th>1</th>\n",
       "      <td>207932307</td>\n",
       "      <td>Train</td>\n",
       "      <td>PS</td>\n",
       "      <td>133.752037</td>\n",
       "      <td>0</td>\n",
       "      <td>819</td>\n",
       "      <td>1</td>\n",
       "      <td>31.923274</td>\n",
       "      <td>205.878517</td>\n",
       "      <td>69.916880</td>\n",
       "      <td>...</td>\n",
       "      <td>18.809225</td>\n",
       "      <td>56.715352</td>\n",
       "      <td>118.388139</td>\n",
       "      <td>0</td>\n",
       "      <td>0</td>\n",
       "      <td>0</td>\n",
       "      <td>32.161261</td>\n",
       "      <td>1</td>\n",
       "      <td>215</td>\n",
       "      <td>347</td>\n",
       "    </tr>\n",
       "    <tr>\n",
       "      <th>2</th>\n",
       "      <td>207932463</td>\n",
       "      <td>Train</td>\n",
       "      <td>WS</td>\n",
       "      <td>106.646387</td>\n",
       "      <td>0</td>\n",
       "      <td>431</td>\n",
       "      <td>0</td>\n",
       "      <td>28.038835</td>\n",
       "      <td>115.315534</td>\n",
       "      <td>63.941748</td>\n",
       "      <td>...</td>\n",
       "      <td>17.295643</td>\n",
       "      <td>37.671053</td>\n",
       "      <td>49.470524</td>\n",
       "      <td>0</td>\n",
       "      <td>0</td>\n",
       "      <td>0</td>\n",
       "      <td>21.185525</td>\n",
       "      <td>0</td>\n",
       "      <td>371</td>\n",
       "      <td>252</td>\n",
       "    </tr>\n",
       "    <tr>\n",
       "      <th>3</th>\n",
       "      <td>207932470</td>\n",
       "      <td>Train</td>\n",
       "      <td>PS</td>\n",
       "      <td>69.150325</td>\n",
       "      <td>0</td>\n",
       "      <td>298</td>\n",
       "      <td>0</td>\n",
       "      <td>19.456140</td>\n",
       "      <td>101.294737</td>\n",
       "      <td>28.217544</td>\n",
       "      <td>...</td>\n",
       "      <td>13.818968</td>\n",
       "      <td>30.005643</td>\n",
       "      <td>24.749537</td>\n",
       "      <td>0</td>\n",
       "      <td>0</td>\n",
       "      <td>2</td>\n",
       "      <td>13.392830</td>\n",
       "      <td>0</td>\n",
       "      <td>487</td>\n",
       "      <td>295</td>\n",
       "    </tr>\n",
       "    <tr>\n",
       "      <th>4</th>\n",
       "      <td>207932455</td>\n",
       "      <td>Test</td>\n",
       "      <td>PS</td>\n",
       "      <td>2.887837</td>\n",
       "      <td>2</td>\n",
       "      <td>285</td>\n",
       "      <td>0</td>\n",
       "      <td>24.275735</td>\n",
       "      <td>111.415441</td>\n",
       "      <td>20.474265</td>\n",
       "      <td>...</td>\n",
       "      <td>15.407972</td>\n",
       "      <td>20.504288</td>\n",
       "      <td>45.450457</td>\n",
       "      <td>0</td>\n",
       "      <td>0</td>\n",
       "      <td>0</td>\n",
       "      <td>13.198561</td>\n",
       "      <td>0</td>\n",
       "      <td>283</td>\n",
       "      <td>159</td>\n",
       "    </tr>\n",
       "  </tbody>\n",
       "</table>\n",
       "<p>5 rows × 119 columns</p>\n",
       "</div>"
      ],
      "text/plain": [
       "        Cell   Case Class    AngleCh1  AngleStatusCh1  AreaCh1  AreaStatusCh1  \\\n",
       "0  207827637   Test    PS  143.247705               1      185              0   \n",
       "1  207932307  Train    PS  133.752037               0      819              1   \n",
       "2  207932463  Train    WS  106.646387               0      431              0   \n",
       "3  207932470  Train    PS   69.150325               0      298              0   \n",
       "4  207932455   Test    PS    2.887837               2      285              0   \n",
       "\n",
       "   AvgIntenCh1  AvgIntenCh2  AvgIntenCh3  ...  VarIntenCh1  VarIntenCh3  \\\n",
       "0    15.711864     3.954802     9.548023  ...    12.474676     7.609035   \n",
       "1    31.923274   205.878517    69.916880  ...    18.809225    56.715352   \n",
       "2    28.038835   115.315534    63.941748  ...    17.295643    37.671053   \n",
       "3    19.456140   101.294737    28.217544  ...    13.818968    30.005643   \n",
       "4    24.275735   111.415441    20.474265  ...    15.407972    20.504288   \n",
       "\n",
       "   VarIntenCh4  VarIntenStatusCh1  VarIntenStatusCh3  VarIntenStatusCh4  \\\n",
       "0     2.714100                  0                  2                  2   \n",
       "1   118.388139                  0                  0                  0   \n",
       "2    49.470524                  0                  0                  0   \n",
       "3    24.749537                  0                  0                  2   \n",
       "4    45.450457                  0                  0                  0   \n",
       "\n",
       "    WidthCh1  WidthStatusCh1  XCentroid  YCentroid  \n",
       "0  10.642974               2         42         14  \n",
       "1  32.161261               1        215        347  \n",
       "2  21.185525               0        371        252  \n",
       "3  13.392830               0        487        295  \n",
       "4  13.198561               0        283        159  \n",
       "\n",
       "[5 rows x 119 columns]"
      ]
     },
     "execution_count": 112,
     "metadata": {},
     "output_type": "execute_result"
    }
   ],
   "source": [
    "dataUrl = \"https://raw.githubusercontent.com/RaimoHaikari/data-analytiikka/main/applied-predictive-modelling/data/segmentationOriginal.csv\"\n",
    "segmentationOriginal = pd.read_csv(dataUrl)\n",
    "segmentationOriginal.head() "
   ]
  },
  {
   "cell_type": "markdown",
   "metadata": {},
   "source": [
    "Sarakkeista:\n",
    "\n",
    "- *Cell* toimii yksilöivänä tietona\n",
    "- *Class* on luokkamuuttuja, jonka avulla nähdään mitkä solut onnistuttiin luokittelemaan hyvin\n",
    "- *Case* kertoo, kuuluiko näyte tutkimuksessa opetus- vai testijoukkoon\n",
    "\n",
    "Kirjan esimerkki keskittyy opetusmateriaaliin, joten kopioidaan se omaan muuttujaansa.\n",
    "\n",
    "Käytetään copy() -toimintoa, jotta yhteys alkuperäiseen aineistoon katkeaa."
   ]
  },
  {
   "cell_type": "code",
   "execution_count": 113,
   "metadata": {},
   "outputs": [],
   "source": [
    "ehto = segmentationOriginal['Case'] == 'Train'\n",
    "segData = segmentationOriginal[ehto].copy(deep=True)"
   ]
  },
  {
   "cell_type": "markdown",
   "metadata": {},
   "source": [
    "Mapataan Cell, Class ja Case omiin muuttujiinsa ja poistetaan ne kehikosta."
   ]
  },
  {
   "cell_type": "code",
   "execution_count": 114,
   "metadata": {},
   "outputs": [],
   "source": [
    "cellID = segData['Cell'].values\n",
    "cellClass = segData['Class'].values\n",
    "cellCase = segData['Case'].values\n",
    "\n",
    "segData.drop(['Cell', 'Class', 'Case'], axis=1, inplace = True)"
   ]
  },
  {
   "cell_type": "markdown",
   "metadata": {},
   "source": [
    "Aineisto sisältää useita sarakkeita, joiden nimessä on maininta: status. Näitä sarakkeita on käytetty ennusteiden manuaaliseen luokitteluun.\n",
    "\n",
    "Poistetaan nämä sarakkeet:"
   ]
  },
  {
   "cell_type": "code",
   "execution_count": 115,
   "metadata": {},
   "outputs": [
    {
     "data": {
      "text/plain": [
       "(1009, 58)"
      ]
     },
     "execution_count": 115,
     "metadata": {},
     "output_type": "execute_result"
    }
   ],
   "source": [
    "# segData.columns.values\n",
    "matching = [s for s in segData.columns.values if \"Status\" in s]\n",
    "segData.drop(matching, axis=1, inplace = True)\n",
    "segData.shape"
   ]
  },
  {
   "cell_type": "markdown",
   "metadata": {},
   "source": [
    "## Muunnokset\n",
    "\n",
    "Osalla muuttujista arvoissa esiintyy huomattavaa vinoutumista. \n",
    "\n",
    "Käydään sarakkeet läpi ja lasketaan kunkin muuttujan vinous. Arvoja voidaan käyttää esim. valittaessa muuttujia visuaalisen tarkastelun kohteeksi.\n",
    "\n",
    "Huom. joillain muuttujilla antaa hieman kirjan esimerkistä poikkeavia arvoja, voi johtua esim. siitä, että ajan [skew-funktion](https://docs.scipy.org/doc/scipy/reference/generated/scipy.stats.skew.html) oletusarvoilla.\n",
    "\n",
    "\n",
    "- peukalosääntönä pidetään 0.75 raja-arvon ylittymistä, mikäli suurempi, vinoutta voidaan pitää merkittävänä\n"
   ]
  },
  {
   "cell_type": "code",
   "execution_count": 116,
   "metadata": {},
   "outputs": [
    {
     "data": {
      "text/plain": [
       "KurtIntenCh1              12.878789\n",
       "KurtIntenCh4               6.928801\n",
       "EqEllipseProlateVolCh1     6.079871\n",
       "EqSphereVolCh1             5.748045\n",
       "KurtIntenCh3               5.513805\n",
       "dtype: float64"
      ]
     },
     "execution_count": 116,
     "metadata": {},
     "output_type": "execute_result"
    }
   ],
   "source": [
    "\n",
    "skewValues = segData.apply(skew, axis=0)\n",
    "skewValues.nlargest()"
   ]
  },
  {
   "cell_type": "markdown",
   "metadata": {},
   "source": [
    "### Box-Cox muunnos\n",
    "\n",
    "Vinon aineiston oikaisuun käytettyjä menetelmiä ovat mm. logaritmin- , neliöjuuren - ja käänteisluvun laskeminen.\n",
    "\n",
    "Muunnoksen jälkeen jakauma ei edelleenkään ole normaali, mutta 'käyttäytyy paremmin'.\n",
    "\n",
    "Tilastotieteilijät Box ja Cox ovat esitelleen menetelmän, jonka avulla tarvittavan oikaisu voidaan matemaattisesti selvittää. Menetelmä perustuu havainnoista laskettavan tunnusluvun käyttöön.\n",
    "\n",
    "Menetelmän käyttö edellyttää, että muuttujan arvot ovat nollaa suurempia. Yksi vaihtoehto negatiivisiä arvoja sisältävien sarakkeiden käsittelyyn on [vakioarvon lisääminen](https://stats.stackexchange.com/questions/399435/which-constant-to-add-when-applying-box-cox-transformation-to-negative-values). \n",
    "\n",
    "Selvitetään siltääkö aineisto *ei positiivisia* arvoja sisältäviä sarakkeita. Mikäli tällaisia sarakkeita löytyy, lisätään kuhunkin muuttujaan vakioarvo, joka on:\n",
    "\n",
    "- pienimmän arvon itseisarvo plus 0.1 (BC_FIX)\n",
    "\n",
    "Talletaan samalla muistiin käsitellyt sarakkeet ja suoritetut korjaukset."
   ]
  },
  {
   "cell_type": "code",
   "execution_count": 119,
   "metadata": {},
   "outputs": [],
   "source": [
    "def hasNegativeValues(x):\n",
    "    return sum(x <= 0)\n",
    "\n",
    "bcPreFixes = {}\n",
    "\n",
    "nOfNegativeValues = segData.apply(lambda x: hasNegativeValues(x))\n",
    "\n",
    "for (col,val) in nOfNegativeValues[nOfNegativeValues > 0].items():\n",
    "    fix = abs(segData[col].min()) + BC_FIX\n",
    "\n",
    "    bcPreFixes[col] = fix\n",
    "    segData[col] += fix"
   ]
  },
  {
   "cell_type": "markdown",
   "metadata": {},
   "source": [
    "Käytetään BoxCox muunnokseen scipy.stats paketista löytyvää [boxcox](https://docs.scipy.org/doc/scipy/reference/generated/scipy.stats.boxcox.html)-funktiota.\n",
    "\n",
    "Funktio palauttaa tuple:n, jossa:\n",
    "\n",
    "- ensimmäinen arvo sisältää muuttenut havainnot\n",
    "- toinen arvo sisältää alkuperäisistä arvoista lasketun lambda-arvon.\n",
    "\n",
    "Apply-funktio lapioi arvot kehikkoon (data.frame)."
   ]
  },
  {
   "cell_type": "code",
   "execution_count": 135,
   "metadata": {},
   "outputs": [],
   "source": [
    "dfBoxCoxTF = segData.apply(lambda x: boxcox(x))"
   ]
  },
  {
   "cell_type": "code",
   "execution_count": 158,
   "metadata": {},
   "outputs": [
    {
     "data": {
      "image/png": "[encoded data removed]",
      "text/plain": [
       "<Figure size 1500x600 with 4 Axes>"
      ]
     },
     "metadata": {},
     "output_type": "display_data"
    }
   ],
   "source": [
    "from scipy import stats\n",
    "\n",
    "kwargs = dict(histtype='stepfilled', alpha=1.0, bins=100, density = False)\n",
    "\n",
    "\n",
    "fig = plt.figure(constrained_layout=True, figsize=(15,6))\n",
    "spec = plt.GridSpec(ncols=4, nrows=1, figure=fig)\n",
    "\n",
    "ax1 = fig.add_subplot(spec[0, 0], xticklabels=[])\n",
    "ax2 = fig.add_subplot(spec[0, 1], xticklabels=[])\n",
    "ax3 = fig.add_subplot(spec[0 ,2])\n",
    "ax4 = fig.add_subplot(spec[0, 3], xticklabels=[])\n",
    "\n",
    "x = segData['KurtIntenCh1'].values\n",
    "\n",
    "prob = stats.probplot(x, dist=stats.norm, plot=ax1)\n",
    "ax1.set_xlabel('')\n",
    "ax1.set_title('Probplot against normal distribution')\n",
    "\n",
    "ax2.hist(segData['KurtIntenCh1'].values, **kwargs);\n",
    "\n",
    "x = dfBoxCoxTF.iloc[0,:]['KurtIntenCh1']\n",
    "\n",
    "prob = stats.probplot(x, dist=stats.norm, plot=ax3)\n",
    "ax3.set_xlabel('')\n",
    "ax3.set_title('Probplot against normal distribution')\n",
    "\n",
    "ax4.hist(dfBoxCoxTF.iloc[0,:]['KurtIntenCh1'], **kwargs);\n"
   ]
  },
  {
   "cell_type": "code",
   "execution_count": null,
   "metadata": {},
   "outputs": [],
   "source": [
    "\n",
    "\n",
    "fig = plt.figure()\n",
    "ax1 = fig.add_subplot(211)\n",
    "\n",
    "#x = stats.loggamma.rvs(5, size=500) + 5\n",
    "x = segData['KurtIntenCh1'].values\n",
    "\n",
    "prob = stats.probplot(x, dist=stats.norm, plot=ax1)\n",
    "ax1.set_xlabel('')\n",
    "ax1.set_title('Probplot against normal distribution')"
   ]
  },
  {
   "cell_type": "code",
   "execution_count": 150,
   "metadata": {},
   "outputs": [
    {
     "data": {
      "image/png": "[encoded data removed]",
      "text/plain": [
       "<Figure size 640x480 with 1 Axes>"
      ]
     },
     "metadata": {},
     "output_type": "display_data"
    }
   ],
   "source": [
    "kwargs = dict(histtype='stepfilled', alpha=1.0, bins=100, density = False)\n",
    "plt.hist(segData['KurtIntenCh1'].values, **kwargs);"
   ]
  },
  {
   "cell_type": "code",
   "execution_count": null,
   "metadata": {},
   "outputs": [],
   "source": [
    "# dfBoxCoxTF.iloc[0,:]['KurtIntenCh1']\n",
    "\n",
    "fig = plt.figure()\n",
    "ax1 = fig.add_subplot(211)\n",
    "\n",
    "#x = stats.loggamma.rvs(5, size=500) + 5\n",
    "x = dfBoxCoxTF.iloc[0,:]['KurtIntenCh1']\n",
    "\n",
    "prob = stats.probplot(x, dist=stats.norm, plot=ax1)\n",
    "ax1.set_xlabel('')\n",
    "ax1.set_title('Probplot against normal distribution')"
   ]
  },
  {
   "cell_type": "code",
   "execution_count": 151,
   "metadata": {},
   "outputs": [
    {
     "data": {
      "image/png": "[encoded data removed]",
      "text/plain": [
       "<Figure size 640x480 with 1 Axes>"
      ]
     },
     "metadata": {},
     "output_type": "display_data"
    }
   ],
   "source": [
    "plt.hist(dfBoxCoxTF.iloc[0,:]['KurtIntenCh1'], **kwargs);"
   ]
  }
 ],
 "metadata": {
  "kernelspec": {
   "display_name": "Python 3",
   "language": "python",
   "name": "python3"
  },
  "language_info": {
   "codemirror_mode": {
    "name": "ipython",
    "version": 3
   },
   "file_extension": ".py",
   "mimetype": "text/x-python",
   "name": "python",
   "nbconvert_exporter": "python",
   "pygments_lexer": "ipython3",
   "version": "3.9.7"
  },
  "orig_nbformat": 4
 },
 "nbformat": 4,
 "nbformat_minor": 2
}
