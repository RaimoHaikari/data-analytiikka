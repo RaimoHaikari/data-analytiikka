{
 "cells": [
  {
   "cell_type": "markdown",
   "metadata": {},
   "source": [
    "# Ant Colony Optimization Algorithm\n",
    "\n",
    "Kauppamatkustajan ongelma on NP-kova ongelma, joka voidaan määrittää seuraavalla tavalla:\n",
    "\n",
    "- on joukko kaupunkeja\n",
    "- kaikkien kaupunkien väliset etäisyydet tunnetaan\n",
    "- mikä on lyhyin reitti, joka vierailee kaikissa kaupungeissa ja palaa takaisin lähtöpisteeseen\n",
    "\n",
    "Yksi mahdollinen tapa ratkaisun löytämiseen on simuloida muurahaisten toimintaa: \"muurahaiset toimivat älykkäällä tavalla joukkona, ilman keskitettyä johtoa.\n",
    "\n",
    "\n",
    "\n",
    "Alkuperäinen [opas](https://www.kaggle.com/code/jamesmcguigan/ant-colony-optimization-algorithm/notebook)."
   ]
  },
  {
   "cell_type": "markdown",
   "metadata": {},
   "source": [
    "Luetaan käytettävät paketit:"
   ]
  },
  {
   "cell_type": "code",
   "execution_count": 1,
   "metadata": {},
   "outputs": [],
   "source": [
    "import numpy as np\n",
    "import math\n",
    "import random\n",
    "import matplotlib.pyplot as plt\n",
    "import matplotlib.image as mpimg"
   ]
  },
  {
   "cell_type": "markdown",
   "metadata": {},
   "source": [
    "Luetaan käytettävä karttakuva"
   ]
  },
  {
   "cell_type": "code",
   "execution_count": 2,
   "metadata": {},
   "outputs": [],
   "source": [
    "united_states_map = mpimg.imread(\"./images/united_states_map.png\")"
   ]
  },
  {
   "cell_type": "code",
   "execution_count": null,
   "metadata": {},
   "outputs": [],
   "source": [
    "def show_cities(path, w=12, h=8):\n",
    "    \n",
    "    \"\"\"Plot a TSP path overlaid on a map of the US States & their capitals.\"\"\"\n",
    "    if isinstance(path, dict):      path = list(path.values())\n",
    "    if isinstance(path[0][0], str): path = [ item[1] for item in path ]    \n",
    "    plt.imshow(united_states_map)    \n",
    "    for x0, y0 in path:\n",
    "        plt.plot(x0, y0, 'y*', markersize=15)  # y* = yellow star for starting point        \n",
    "    plt.axis(\"off\")\n",
    "    fig = plt.gcf()\n",
    "    fig.set_size_inches([w, h])"
   ]
  }
 ],
 "metadata": {
  "kernelspec": {
   "display_name": "Python 3",
   "language": "python",
   "name": "python3"
  },
  "language_info": {
   "codemirror_mode": {
    "name": "ipython",
    "version": 3
   },
   "file_extension": ".py",
   "mimetype": "text/x-python",
   "name": "python",
   "nbconvert_exporter": "python",
   "pygments_lexer": "ipython3",
   "version": "3.9.7"
  },
  "orig_nbformat": 4
 },
 "nbformat": 4,
 "nbformat_minor": 2
}
